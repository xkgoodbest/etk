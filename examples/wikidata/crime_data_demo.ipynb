{
 "cells": [
  {
   "cell_type": "markdown",
   "metadata": {},
   "source": [
    "# FBI Crime Data Modeling Demo"
   ]
  },
  {
   "cell_type": "code",
   "execution_count": 1,
   "metadata": {},
   "outputs": [
    {
     "name": "stderr",
     "output_type": "stream",
     "text": [
      "/anaconda3/envs/etk2_env/lib/python3.6/site-packages/requests/__init__.py:91: RequestsDependencyWarning: urllib3 (1.25.2) or chardet (3.0.4) doesn't match a supported version!\n",
      "  RequestsDependencyWarning)\n"
     ]
    }
   ],
   "source": [
    "# Import FBI_Crime_Model class\n",
    "from FBI_Crime_Model import FBI_Crime_Model"
   ]
  },
  {
   "cell_type": "code",
   "execution_count": 2,
   "metadata": {},
   "outputs": [
    {
     "name": "stdout",
     "output_type": "stream",
     "text": [
      "\n",
      "\n",
      "County - QNode mapping dictionary created\n",
      "\n",
      "\n",
      "sioux-county_nd: Q48850\n",
      "eddy-county_nd: Q48863\n",
      "foster-county_nd: Q48931\n",
      "rich-county_ut: Q26907\n",
      "sabine-county_tx: Q26889\n",
      "ontonagon-county_mi: Q45438\n",
      "cherokee-county_sc: Q619609\n",
      "milam-county_tx: Q26716\n",
      "liberty-county_tx: Q26719\n",
      "lavaca-county_tx: Q27023\n"
     ]
    }
   ],
   "source": [
    "# Create an instance of FBI_Crime_Model\n",
    "model = FBI_Crime_Model()\n",
    "\n",
    "# Query wikidata to get county_name and QNode pair, save them to local disk\n",
    "c_q = model.query_QNodes()\n",
    "\n",
    "for i,v in enumerate(c_q):\n",
    "    if i < 10:\n",
    "        print(v + ': ' + c_q[v])"
   ]
  },
  {
   "cell_type": "code",
   "execution_count": 3,
   "metadata": {},
   "outputs": [
    {
     "name": "stdout",
     "output_type": "stream",
     "text": [
      "Downloading crime data: alabama_2016\n",
      "Downloading crime data: arizona_2016\n",
      "Downloading crime data: arkansas_2016\n",
      "Downloading crime data: california_2016\n",
      "Downloading crime data: colorado_2016\n",
      "Downloading crime data: delaware_2016\n",
      "Downloading crime data: florida_2016\n",
      "Downloading crime data: georgia_2016\n",
      "Downloading crime data: hawaii_2016\n",
      "Downloading crime data: idaho_2016\n",
      "Downloading crime data: illinois_2016\n",
      "Downloading crime data: indiana_2016\n",
      "Downloading crime data: iowa_2016\n",
      "Downloading crime data: kansas_2016\n",
      "Downloading crime data: kentucky_2016\n",
      "Downloading crime data: louisiana_2016\n",
      "Downloading crime data: maine_2016\n",
      "Downloading crime data: maryland_2016\n",
      "Downloading crime data: michigan_2016\n",
      "Downloading crime data: minnesota_2016\n",
      "Downloading crime data: mississippi_2016\n",
      "Downloading crime data: missouri_2016\n",
      "Downloading crime data: montana_2016\n",
      "Downloading crime data: nebraska_2016\n",
      "Downloading crime data: nevada_2016\n",
      "Downloading crime data: new-hampshire_2016\n",
      "Downloading crime data: new-jersey_2016\n",
      "Downloading crime data: new-mexico_2016\n",
      "Downloading crime data: new-york_2016\n",
      "Downloading crime data: north-carolina_2016\n",
      "Downloading crime data: north-dakota_2016\n",
      "Downloading crime data: ohio_2016\n",
      "Downloading crime data: oklahoma_2016\n",
      "Downloading crime data: oregon_2016\n",
      "Downloading crime data: pennsylvania_2016\n",
      "Downloading crime data: south-carolina_2016\n",
      "Downloading crime data: south-dakota_2016\n",
      "Downloading crime data: tennessee_2016\n",
      "Downloading crime data: texas_2016\n",
      "Downloading crime data: utah_2016\n",
      "Downloading crime data: vermont_2016\n",
      "Downloading crime data: virginia_2016\n",
      "Downloading crime data: washington_2016\n",
      "Downloading crime data: west-virginia_2016\n",
      "Downloading crime data: wisconsin_2016\n",
      "Downloading crime data: wyoming_2016\n",
      "\n",
      "\n",
      "Download completed!\n"
     ]
    }
   ],
   "source": [
    "\"\"\"\n",
    "Download designated crime data to local disk\n",
    "\n",
    "Args:\n",
    "    year: int, the year of the data\n",
    "    states: list of str, leave it None to download data for all states, default: None\n",
    "\"\"\"\n",
    "model.download_data(2016)"
   ]
  },
  {
   "cell_type": "code",
   "execution_count": 4,
   "metadata": {},
   "outputs": [
    {
     "name": "stdout",
     "output_type": "stream",
     "text": [
      "Extracting crime data for alabama_2016\n",
      "Extracting crime data for arizona_2016\n",
      "Extracting crime data for arkansas_2016\n",
      "Extracting crime data for california_2016\n",
      "Extracting crime data for colorado_2016\n",
      "Extracting crime data for delaware_2016\n",
      "Extracting crime data for florida_2016\n",
      "Extracting crime data for georgia_2016\n",
      "Extracting crime data for hawaii_2016\n",
      "Extracting crime data for idaho_2016\n",
      "Extracting crime data for illinois_2016\n",
      "Extracting crime data for indiana_2016\n",
      "Extracting crime data for iowa_2016\n",
      "Extracting crime data for kansas_2016\n",
      "Extracting crime data for kentucky_2016\n",
      "Extracting crime data for louisiana_2016\n",
      "Extracting crime data for maine_2016\n",
      "Extracting crime data for maryland_2016\n",
      "Extracting crime data for michigan_2016\n",
      "Extracting crime data for minnesota_2016\n",
      "Extracting crime data for mississippi_2016\n",
      "Extracting crime data for missouri_2016\n",
      "Extracting crime data for montana_2016\n",
      "Extracting crime data for nebraska_2016\n",
      "Extracting crime data for nevada_2016\n",
      "Extracting crime data for new-hampshire_2016\n",
      "Extracting crime data for new-jersey_2016\n",
      "Extracting crime data for new-mexico_2016\n",
      "Extracting crime data for new-york_2016\n",
      "Extracting crime data for north-carolina_2016\n",
      "Extracting crime data for north-dakota_2016\n",
      "Extracting crime data for ohio_2016\n",
      "Extracting crime data for oklahoma_2016\n",
      "Extracting crime data for oregon_2016\n",
      "Extracting crime data for pennsylvania_2016\n",
      "Extracting crime data for south-carolina_2016\n",
      "Extracting crime data for south-dakota_2016\n",
      "Extracting crime data for tennessee_2016\n",
      "Extracting crime data for texas_2016\n",
      "Extracting crime data for utah_2016\n",
      "Extracting crime data for vermont_2016\n",
      "Extracting crime data for virginia_2016\n",
      "Extracting crime data for washington_2016\n",
      "Extracting crime data for west-virginia_2016\n",
      "Extracting crime data for wisconsin_2016\n",
      "Extracting crime data for wyoming_2016\n",
      "\n",
      "\n",
      "Extraction completed!\n",
      "\n",
      "Sample of Los Angeles:\n",
      "Violent_crime: 6124\n",
      "Murder_and_nonnegligent_manslaughter: 94\n",
      "Rape_(revised_definition)1: 307\n",
      "Robbery: 1474\n",
      "Aggravated_assault: 4249\n",
      "Property_crime: 17498\n",
      "Burglary: 3816\n",
      "Larceny-_theft: 9328\n",
      "Motor_vehicle_theft: 4354\n",
      "Arson: 227\n"
     ]
    }
   ],
   "source": [
    "\"\"\"\n",
    "Extract data from downloaded excel files in the local disk\n",
    "\n",
    "Args:\n",
    "    year: int, the year of the data\n",
    "    states: list of str, leave it None to extract data for all states, default: None\n",
    "    \n",
    "return a dict contains the extracted data\n",
    "\"\"\"\n",
    "res = model.extract_data(2016)\n",
    "\n",
    "print('\\nSample of Los Angeles:')\n",
    "la_data = res['california_2016']['Los Angeles']\n",
    "for data in la_data:\n",
    "    print(data + ': ' + str(la_data[data]))"
   ]
  },
  {
   "cell_type": "code",
   "execution_count": 5,
   "metadata": {},
   "outputs": [
    {
     "name": "stdout",
     "output_type": "stream",
     "text": [
      "Modeling data for alabama_2016\n",
      "Modeling data for arizona_2016\n",
      "Modeling data for arkansas_2016\n",
      "Modeling data for california_2016\n",
      "Modeling data for colorado_2016\n",
      "Modeling data for delaware_2016\n",
      "Modeling data for florida_2016\n",
      "Modeling data for georgia_2016\n",
      "Modeling data for hawaii_2016\n",
      "Modeling data for idaho_2016\n",
      "Modeling data for illinois_2016\n",
      "Modeling data for indiana_2016\n",
      "Modeling data for iowa_2016\n",
      "Modeling data for kansas_2016\n",
      "Modeling data for kentucky_2016\n",
      "Modeling data for louisiana_2016\n",
      "Modeling data for maine_2016\n",
      "Modeling data for maryland_2016\n",
      "Modeling data for michigan_2016\n",
      "Modeling data for minnesota_2016\n",
      "Modeling data for mississippi_2016\n",
      "Modeling data for missouri_2016\n",
      "Modeling data for montana_2016\n",
      "Modeling data for nebraska_2016\n",
      "Modeling data for nevada_2016\n",
      "Modeling data for new-hampshire_2016\n",
      "Modeling data for new-jersey_2016\n",
      "Modeling data for new-mexico_2016\n",
      "Modeling data for new-york_2016\n",
      "Modeling data for north-carolina_2016\n",
      "Modeling data for north-dakota_2016\n",
      "Modeling data for ohio_2016\n",
      "Modeling data for oklahoma_2016\n",
      "Modeling data for oregon_2016\n",
      "Modeling data for pennsylvania_2016\n",
      "Modeling data for south-carolina_2016\n",
      "Modeling data for south-dakota_2016\n",
      "Modeling data for tennessee_2016\n",
      "Modeling data for texas_2016\n",
      "Modeling data for utah_2016\n",
      "Modeling data for vermont_2016\n",
      "Modeling data for virginia_2016\n",
      "Modeling data for washington_2016\n",
      "Modeling data for west-virginia_2016\n",
      "Modeling data for wisconsin_2016\n",
      "Modeling data for wyoming_2016\n",
      "\n",
      "\n",
      "Modeling completed!\n",
      "\n",
      "\n",
      "Serialization completed!\n"
     ]
    }
   ],
   "source": [
    "\"\"\"\n",
    "Model extracted data to Wikidata format and serialize to file\n",
    "\n",
    "Args:\n",
    "    crime_data: dict, should be the output of `extract_data` function\n",
    "    file_path: str, file path that to store the serialization\n",
    "    format: str, the format of serialization, default: 'ttl'\n",
    "\"\"\"\n",
    "model.model_data(res, '2016_crime_wikidata.ttl')"
   ]
  },
  {
   "cell_type": "code",
   "execution_count": null,
   "metadata": {},
   "outputs": [],
   "source": [
    "from etk.wikidata import serialize_change_record\n",
    "\n",
    "# save changes\n",
    "with open('changes.tsv', 'w') as fp:\n",
    "    serialize_change_record(fp)"
   ]
  }
 ],
 "metadata": {
  "kernelspec": {
   "display_name": "Python (etk2_env)",
   "language": "python",
   "name": "etk2_env"
  },
  "language_info": {
   "codemirror_mode": {
    "name": "ipython",
    "version": 3
   },
   "file_extension": ".py",
   "mimetype": "text/x-python",
   "name": "python",
   "nbconvert_exporter": "python",
   "pygments_lexer": "ipython3",
   "version": "3.6.8"
  }
 },
 "nbformat": 4,
 "nbformat_minor": 2
}
